{
 "cells": [
  {
   "cell_type": "code",
   "execution_count": 1,
   "id": "25c171c5-7057-45c3-a346-245aac2417b1",
   "metadata": {},
   "outputs": [
    {
     "name": "stdout",
     "output_type": "stream",
     "text": [
      "arm64\n",
      "arm64\n",
      "/usr/bin/clang++\n",
      "Apple clang version 16.0.0 (clang-1600.0.26.6)\n",
      "Target: arm64-apple-darwin24.2.0\n",
      "Thread model: posix\n",
      "InstalledDir: /Applications/Xcode_16.2.app/Contents/Developer/Toolchains/XcodeDefault.xctoolchain/usr/bin\n"
     ]
    }
   ],
   "source": [
    "!uname -m\n",
    "!arch\n",
    "!which clang++\n",
    "!clang++ --version"
   ]
  },
  {
   "cell_type": "code",
   "execution_count": 3,
   "id": "782537a2-3cd0-44a9-b590-26308824177b",
   "metadata": {},
   "outputs": [],
   "source": [
    "%load_ext autoreload\n",
    "%autoreload 2\n",
    "\n",
    "%aimport pytensor"
   ]
  },
  {
   "cell_type": "code",
   "execution_count": 4,
   "id": "91e044b1-bd4d-4b25-b3de-a6ff52916d0b",
   "metadata": {},
   "outputs": [],
   "source": [
    "import pymc as pm\n",
    "import pymc_bart as pmb\n",
    "import numpy as np"
   ]
  },
  {
   "cell_type": "code",
   "execution_count": 9,
   "id": "c17cd2f9-19bc-430e-bd10-d9a271b949aa",
   "metadata": {},
   "outputs": [
    {
     "name": "stderr",
     "output_type": "stream",
     "text": [
      "Sequential sampling (1 chains in 1 job)\n",
      "CompoundStep\n",
      ">PGBART: [mu]\n",
      ">NUTS: [sigma]\n"
     ]
    },
    {
     "data": {
      "application/vnd.jupyter.widget-view+json": {
       "model_id": "607001e0a27f4acb828a0e49f453e2a0",
       "version_major": 2,
       "version_minor": 0
      },
      "text/plain": [
       "Output()"
      ]
     },
     "metadata": {},
     "output_type": "display_data"
    },
    {
     "data": {
      "text/html": [
       "<pre style=\"white-space:pre;overflow-x:auto;line-height:normal;font-family:Menlo,'DejaVu Sans Mono',consolas,'Courier New',monospace\"></pre>\n"
      ],
      "text/plain": []
     },
     "metadata": {},
     "output_type": "display_data"
    },
    {
     "name": "stderr",
     "output_type": "stream",
     "text": [
      "Sampling 1 chain for 100 tune and 100 draw iterations (100 + 100 draws total) took 2 seconds.\n",
      "There were 2 divergences after tuning. Increase `target_accept` or reparameterize.\n",
      "Only one chain was sampled, this makes it impossible to run some convergence checks\n",
      "Sampling: [y]\n"
     ]
    },
    {
     "data": {
      "application/vnd.jupyter.widget-view+json": {
       "model_id": "24c95a80c9d247d5b2a9e169677377cc",
       "version_major": 2,
       "version_minor": 0
      },
      "text/plain": [
       "Output()"
      ]
     },
     "metadata": {},
     "output_type": "display_data"
    },
    {
     "data": {
      "text/html": [
       "<pre style=\"white-space:pre;overflow-x:auto;line-height:normal;font-family:Menlo,'DejaVu Sans Mono',consolas,'Courier New',monospace\"></pre>\n"
      ],
      "text/plain": []
     },
     "metadata": {},
     "output_type": "display_data"
    }
   ],
   "source": [
    "import numpy as np\n",
    "from pymc_bart.utils import MutableDataWithNA\n",
    "import pymc as pm\n",
    "import pymc_bart as pmb\n",
    "\n",
    "# Create data with missing values\n",
    "X = np.array([[1.0, 2.0, np.nan], [4.0, np.nan, 6.0], [7.0, 8.0, 9.0]])\n",
    "Y = np.array([1.0, 2.0, 3.0])\n",
    "\n",
    "# Create mutable data container\n",
    "data_X = MutableDataWithNA(\"X\", X)\n",
    "\n",
    "# Use directly with BART (bypassing pm.Data for missing values)\n",
    "with pm.Model() as model:\n",
    "    mu = pmb.BART(\"mu\", data_X.get_value(), Y, m=10, missingness_handling=\"aware\")\n",
    "    sigma = pm.HalfNormal(\"sigma\", 1)\n",
    "    y = pm.Normal(\"y\", mu, sigma, observed=Y, shape=mu.shape)\n",
    "    \n",
    "    # Sample\n",
    "    idata = pm.sample(tune=100, draws=100, chains=1)\n",
    "    \n",
    "    # Update data for predictions\n",
    "    new_X = np.array([[10.0, 20.0, np.nan], [40.0, 50.0, 60.0], [70.0, 80.0, 90.0]])\n",
    "    data_X.set_value(new_X)\n",
    "    \n",
    "    # Sample posterior predictive\n",
    "    ppc = pm.sample_posterior_predictive(idata)"
   ]
  },
  {
   "cell_type": "code",
   "execution_count": 5,
   "id": "4472b7a9-af72-411e-84dd-9686b2c7f3db",
   "metadata": {},
   "outputs": [],
   "source": [
    "# Create data with missing values\n",
    "X = np.random.normal(0, 1, size=(100, 3))\n",
    "X[10:20, 0] = np.nan  # Add missing values\n",
    "Y = np.random.normal(0, 1, size=100)"
   ]
  },
  {
   "cell_type": "code",
   "execution_count": 7,
   "id": "44d70b58-9b09-44ec-a874-15524dfb0193",
   "metadata": {},
   "outputs": [
    {
     "name": "stderr",
     "output_type": "stream",
     "text": [
      "Sequential sampling (1 chains in 1 job)\n",
      "CompoundStep\n",
      ">PGBART: [mu]\n",
      ">NUTS: [sigma]\n"
     ]
    },
    {
     "data": {
      "application/vnd.jupyter.widget-view+json": {
       "model_id": "a5e477ae8d07428682d0943c5df252d2",
       "version_major": 2,
       "version_minor": 0
      },
      "text/plain": [
       "Output()"
      ]
     },
     "metadata": {},
     "output_type": "display_data"
    },
    {
     "data": {
      "text/html": [
       "<pre style=\"white-space:pre;overflow-x:auto;line-height:normal;font-family:Menlo,'DejaVu Sans Mono',consolas,'Courier New',monospace\"></pre>\n"
      ],
      "text/plain": []
     },
     "metadata": {},
     "output_type": "display_data"
    },
    {
     "name": "stderr",
     "output_type": "stream",
     "text": [
      "Sampling 1 chain for 100 tune and 100 draw iterations (100 + 100 draws total) took 3 seconds.\n",
      "Only one chain was sampled, this makes it impossible to run some convergence checks\n"
     ]
    }
   ],
   "source": [
    "\n",
    "# Create data with missing values\n",
    "X = np.random.normal(0, 1, size=(100, 3))\n",
    "X[10:20, 0] = np.nan  # Add missing values\n",
    "Y = np.random.normal(0, 1, size=100)\n",
    "\n",
    "# Use missingness-aware BART (bartMachine-like)\n",
    "with pm.Model() as model:\n",
    "    mu = pmb.BART(\n",
    "        \"mu\", \n",
    "        X, \n",
    "        Y, \n",
    "        m=10, \n",
    "        missingness_handling=\"aware\",  # New parameter!\n",
    "        auto_detect_categorical=True   # New parameter!\n",
    "    )\n",
    "    sigma = pm.HalfNormal(\"sigma\", 1)\n",
    "    pm.Normal(\"y\", mu, sigma, observed=Y)\n",
    "    idata = pm.sample(tune=100, draws=100, chains=1)"
   ]
  },
  {
   "cell_type": "code",
   "execution_count": null,
   "id": "fd8fdddb-3aa9-404c-8187-f93db0a4599b",
   "metadata": {},
   "outputs": [],
   "source": []
  }
 ],
 "metadata": {
  "kernelspec": {
   "display_name": "pymc-bart-NA",
   "language": "python",
   "name": "pymc-bart-na"
  },
  "language_info": {
   "codemirror_mode": {
    "name": "ipython",
    "version": 3
   },
   "file_extension": ".py",
   "mimetype": "text/x-python",
   "name": "python",
   "nbconvert_exporter": "python",
   "pygments_lexer": "ipython3",
   "version": "3.10.18"
  }
 },
 "nbformat": 4,
 "nbformat_minor": 5
}
